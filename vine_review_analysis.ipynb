{
 "cells": [
  {
   "cell_type": "code",
   "execution_count": 1,
   "id": "ba6594e7",
   "metadata": {},
   "outputs": [],
   "source": [
    "# Import dependencies\n",
    "import pandas as pd"
   ]
  },
  {
   "cell_type": "code",
   "execution_count": 6,
   "id": "719c78c9",
   "metadata": {},
   "outputs": [
    {
     "data": {
      "text/html": [
       "<div>\n",
       "<style scoped>\n",
       "    .dataframe tbody tr th:only-of-type {\n",
       "        vertical-align: middle;\n",
       "    }\n",
       "\n",
       "    .dataframe tbody tr th {\n",
       "        vertical-align: top;\n",
       "    }\n",
       "\n",
       "    .dataframe thead th {\n",
       "        text-align: right;\n",
       "    }\n",
       "</style>\n",
       "<table border=\"1\" class=\"dataframe\">\n",
       "  <thead>\n",
       "    <tr style=\"text-align: right;\">\n",
       "      <th></th>\n",
       "      <th>review_id</th>\n",
       "      <th>star_rating</th>\n",
       "      <th>helpful_votes</th>\n",
       "      <th>total_votes</th>\n",
       "      <th>vine</th>\n",
       "      <th>verified_purchase</th>\n",
       "    </tr>\n",
       "  </thead>\n",
       "  <tbody>\n",
       "    <tr>\n",
       "      <th>0</th>\n",
       "      <td>R61SI1RWZEUSU</td>\n",
       "      <td>4.0</td>\n",
       "      <td>0.0</td>\n",
       "      <td>2.0</td>\n",
       "      <td>N</td>\n",
       "      <td>Y</td>\n",
       "    </tr>\n",
       "    <tr>\n",
       "      <th>1</th>\n",
       "      <td>R2ZFZVK5H4C7E6</td>\n",
       "      <td>5.0</td>\n",
       "      <td>0.0</td>\n",
       "      <td>0.0</td>\n",
       "      <td>N</td>\n",
       "      <td>N</td>\n",
       "    </tr>\n",
       "    <tr>\n",
       "      <th>2</th>\n",
       "      <td>R16FX512LAE2A9</td>\n",
       "      <td>1.0</td>\n",
       "      <td>1.0</td>\n",
       "      <td>1.0</td>\n",
       "      <td>N</td>\n",
       "      <td>Y</td>\n",
       "    </tr>\n",
       "    <tr>\n",
       "      <th>3</th>\n",
       "      <td>R3EVLJJG1WU2TI</td>\n",
       "      <td>5.0</td>\n",
       "      <td>0.0</td>\n",
       "      <td>0.0</td>\n",
       "      <td>N</td>\n",
       "      <td>Y</td>\n",
       "    </tr>\n",
       "    <tr>\n",
       "      <th>4</th>\n",
       "      <td>RFSCDAT96PHXN</td>\n",
       "      <td>4.0</td>\n",
       "      <td>0.0</td>\n",
       "      <td>0.0</td>\n",
       "      <td>N</td>\n",
       "      <td>Y</td>\n",
       "    </tr>\n",
       "  </tbody>\n",
       "</table>\n",
       "</div>"
      ],
      "text/plain": [
       "        review_id  star_rating  helpful_votes  total_votes vine  \\\n",
       "0   R61SI1RWZEUSU          4.0            0.0          2.0    N   \n",
       "1  R2ZFZVK5H4C7E6          5.0            0.0          0.0    N   \n",
       "2  R16FX512LAE2A9          1.0            1.0          1.0    N   \n",
       "3  R3EVLJJG1WU2TI          5.0            0.0          0.0    N   \n",
       "4   RFSCDAT96PHXN          4.0            0.0          0.0    N   \n",
       "\n",
       "  verified_purchase  \n",
       "0                 Y  \n",
       "1                 N  \n",
       "2                 Y  \n",
       "3                 Y  \n",
       "4                 Y  "
      ]
     },
     "execution_count": 6,
     "metadata": {},
     "output_type": "execute_result"
    }
   ],
   "source": [
    "# Load vine_table data and create a DataFrame for the data\n",
    "vine_table_df = pd.read_csv('vine_table.csv')\n",
    "vine_table_df.head()"
   ]
  },
  {
   "cell_type": "code",
   "execution_count": 9,
   "id": "81022524",
   "metadata": {},
   "outputs": [
    {
     "data": {
      "text/plain": [
       "(5331449, 6)"
      ]
     },
     "execution_count": 9,
     "metadata": {},
     "output_type": "execute_result"
    }
   ],
   "source": [
    "# Check shape of DataFrame\n",
    "vine_table_df.shape"
   ]
  },
  {
   "cell_type": "code",
   "execution_count": 8,
   "id": "d7de4587",
   "metadata": {},
   "outputs": [
    {
     "data": {
      "text/plain": [
       "review_id              0\n",
       "star_rating          234\n",
       "helpful_votes        234\n",
       "total_votes          234\n",
       "vine                 234\n",
       "verified_purchase    234\n",
       "dtype: int64"
      ]
     },
     "execution_count": 8,
     "metadata": {},
     "output_type": "execute_result"
    }
   ],
   "source": [
    "# Check for any null values in DataFrame\n",
    "vine_table_df.isnull().sum()"
   ]
  },
  {
   "cell_type": "code",
   "execution_count": 10,
   "id": "a55a0bf6",
   "metadata": {},
   "outputs": [
    {
     "data": {
      "text/plain": [
       "review_id             object\n",
       "star_rating          float64\n",
       "helpful_votes        float64\n",
       "total_votes          float64\n",
       "vine                  object\n",
       "verified_purchase     object\n",
       "dtype: object"
      ]
     },
     "execution_count": 10,
     "metadata": {},
     "output_type": "execute_result"
    }
   ],
   "source": [
    "# Check for data types in DataFrame\n",
    "vine_table_df.dtypes"
   ]
  },
  {
   "cell_type": "code",
   "execution_count": 17,
   "id": "7a8457d2",
   "metadata": {},
   "outputs": [
    {
     "data": {
      "text/html": [
       "<div>\n",
       "<style scoped>\n",
       "    .dataframe tbody tr th:only-of-type {\n",
       "        vertical-align: middle;\n",
       "    }\n",
       "\n",
       "    .dataframe tbody tr th {\n",
       "        vertical-align: top;\n",
       "    }\n",
       "\n",
       "    .dataframe thead th {\n",
       "        text-align: right;\n",
       "    }\n",
       "</style>\n",
       "<table border=\"1\" class=\"dataframe\">\n",
       "  <thead>\n",
       "    <tr style=\"text-align: right;\">\n",
       "      <th></th>\n",
       "      <th>review_id</th>\n",
       "      <th>star_rating</th>\n",
       "      <th>helpful_votes</th>\n",
       "      <th>total_votes</th>\n",
       "      <th>vine</th>\n",
       "      <th>verified_purchase</th>\n",
       "    </tr>\n",
       "  </thead>\n",
       "  <tbody>\n",
       "    <tr>\n",
       "      <th>102</th>\n",
       "      <td>RJSVNDGO0J1JY</td>\n",
       "      <td>5.0</td>\n",
       "      <td>21.0</td>\n",
       "      <td>21.0</td>\n",
       "      <td>N</td>\n",
       "      <td>N</td>\n",
       "    </tr>\n",
       "    <tr>\n",
       "      <th>186</th>\n",
       "      <td>R8DVDHP9F9L34</td>\n",
       "      <td>1.0</td>\n",
       "      <td>2.0</td>\n",
       "      <td>20.0</td>\n",
       "      <td>N</td>\n",
       "      <td>Y</td>\n",
       "    </tr>\n",
       "    <tr>\n",
       "      <th>243</th>\n",
       "      <td>R2SOBVB236WJP0</td>\n",
       "      <td>3.0</td>\n",
       "      <td>24.0</td>\n",
       "      <td>45.0</td>\n",
       "      <td>N</td>\n",
       "      <td>Y</td>\n",
       "    </tr>\n",
       "    <tr>\n",
       "      <th>339</th>\n",
       "      <td>R1O4VSAKKBUFG8</td>\n",
       "      <td>5.0</td>\n",
       "      <td>19.0</td>\n",
       "      <td>24.0</td>\n",
       "      <td>N</td>\n",
       "      <td>Y</td>\n",
       "    </tr>\n",
       "    <tr>\n",
       "      <th>424</th>\n",
       "      <td>RSX3CPZF61BSZ</td>\n",
       "      <td>4.0</td>\n",
       "      <td>14.0</td>\n",
       "      <td>21.0</td>\n",
       "      <td>N</td>\n",
       "      <td>Y</td>\n",
       "    </tr>\n",
       "  </tbody>\n",
       "</table>\n",
       "</div>"
      ],
      "text/plain": [
       "          review_id  star_rating  helpful_votes  total_votes vine  \\\n",
       "102   RJSVNDGO0J1JY          5.0           21.0         21.0    N   \n",
       "186   R8DVDHP9F9L34          1.0            2.0         20.0    N   \n",
       "243  R2SOBVB236WJP0          3.0           24.0         45.0    N   \n",
       "339  R1O4VSAKKBUFG8          5.0           19.0         24.0    N   \n",
       "424   RSX3CPZF61BSZ          4.0           14.0         21.0    N   \n",
       "\n",
       "    verified_purchase  \n",
       "102                 N  \n",
       "186                 Y  \n",
       "243                 Y  \n",
       "339                 Y  \n",
       "424                 Y  "
      ]
     },
     "execution_count": 17,
     "metadata": {},
     "output_type": "execute_result"
    }
   ],
   "source": [
    "# Filter DataFrame for total_votes >= 20\n",
    "vine_table_df_filtered_total_votes = vine_table_df[(vine_table_df['total_votes'] >= 20)]\n",
    "vine_table_df_filtered_total_votes.head()"
   ]
  },
  {
   "cell_type": "code",
   "execution_count": 25,
   "id": "470aab6c",
   "metadata": {},
   "outputs": [
    {
     "data": {
      "text/html": [
       "<div>\n",
       "<style scoped>\n",
       "    .dataframe tbody tr th:only-of-type {\n",
       "        vertical-align: middle;\n",
       "    }\n",
       "\n",
       "    .dataframe tbody tr th {\n",
       "        vertical-align: top;\n",
       "    }\n",
       "\n",
       "    .dataframe thead th {\n",
       "        text-align: right;\n",
       "    }\n",
       "</style>\n",
       "<table border=\"1\" class=\"dataframe\">\n",
       "  <thead>\n",
       "    <tr style=\"text-align: right;\">\n",
       "      <th></th>\n",
       "      <th>review_id</th>\n",
       "      <th>star_rating</th>\n",
       "      <th>helpful_votes</th>\n",
       "      <th>total_votes</th>\n",
       "      <th>vine</th>\n",
       "      <th>verified_purchase</th>\n",
       "    </tr>\n",
       "  </thead>\n",
       "  <tbody>\n",
       "    <tr>\n",
       "      <th>102</th>\n",
       "      <td>RJSVNDGO0J1JY</td>\n",
       "      <td>5.0</td>\n",
       "      <td>21.0</td>\n",
       "      <td>21.0</td>\n",
       "      <td>N</td>\n",
       "      <td>N</td>\n",
       "    </tr>\n",
       "    <tr>\n",
       "      <th>243</th>\n",
       "      <td>R2SOBVB236WJP0</td>\n",
       "      <td>3.0</td>\n",
       "      <td>24.0</td>\n",
       "      <td>45.0</td>\n",
       "      <td>N</td>\n",
       "      <td>Y</td>\n",
       "    </tr>\n",
       "    <tr>\n",
       "      <th>339</th>\n",
       "      <td>R1O4VSAKKBUFG8</td>\n",
       "      <td>5.0</td>\n",
       "      <td>19.0</td>\n",
       "      <td>24.0</td>\n",
       "      <td>N</td>\n",
       "      <td>Y</td>\n",
       "    </tr>\n",
       "    <tr>\n",
       "      <th>424</th>\n",
       "      <td>RSX3CPZF61BSZ</td>\n",
       "      <td>4.0</td>\n",
       "      <td>14.0</td>\n",
       "      <td>21.0</td>\n",
       "      <td>N</td>\n",
       "      <td>Y</td>\n",
       "    </tr>\n",
       "    <tr>\n",
       "      <th>496</th>\n",
       "      <td>R2ARCCGFQ50AY1</td>\n",
       "      <td>1.0</td>\n",
       "      <td>23.0</td>\n",
       "      <td>24.0</td>\n",
       "      <td>N</td>\n",
       "      <td>N</td>\n",
       "    </tr>\n",
       "  </tbody>\n",
       "</table>\n",
       "</div>"
      ],
      "text/plain": [
       "          review_id  star_rating  helpful_votes  total_votes vine  \\\n",
       "102   RJSVNDGO0J1JY          5.0           21.0         21.0    N   \n",
       "243  R2SOBVB236WJP0          3.0           24.0         45.0    N   \n",
       "339  R1O4VSAKKBUFG8          5.0           19.0         24.0    N   \n",
       "424   RSX3CPZF61BSZ          4.0           14.0         21.0    N   \n",
       "496  R2ARCCGFQ50AY1          1.0           23.0         24.0    N   \n",
       "\n",
       "    verified_purchase  \n",
       "102                 N  \n",
       "243                 Y  \n",
       "339                 Y  \n",
       "424                 Y  \n",
       "496                 N  "
      ]
     },
     "execution_count": 25,
     "metadata": {},
     "output_type": "execute_result"
    }
   ],
   "source": [
    "# Filter DataFrame for helpful_votes >= 50%\n",
    "vine_table_df_filtered_helpful_votes = vine_table_df_filtered_total_votes[(\n",
    "    vine_table_df_filtered_total_votes['helpful_votes']/vine_table_df_filtered_total_votes['total_votes']) >= 0.5]\n",
    "vine_table_df_filtered_helpful_votes.head()"
   ]
  },
  {
   "cell_type": "code",
   "execution_count": 26,
   "id": "911b3c9a",
   "metadata": {},
   "outputs": [
    {
     "data": {
      "text/plain": [
       "(121360, 6)"
      ]
     },
     "execution_count": 26,
     "metadata": {},
     "output_type": "execute_result"
    }
   ],
   "source": [
    "# Check shape of filtered DataFrame\n",
    "vine_table_df_filtered_helpful_votes.shape"
   ]
  },
  {
   "cell_type": "code",
   "execution_count": 27,
   "id": "0d299c56",
   "metadata": {},
   "outputs": [
    {
     "data": {
      "text/plain": [
       "review_id            0\n",
       "star_rating          0\n",
       "helpful_votes        0\n",
       "total_votes          0\n",
       "vine                 0\n",
       "verified_purchase    0\n",
       "dtype: int64"
      ]
     },
     "execution_count": 27,
     "metadata": {},
     "output_type": "execute_result"
    }
   ],
   "source": [
    "# Check for any null values in filtered DataFrame\n",
    "vine_table_df_filtered_helpful_votes.isnull().sum()"
   ]
  },
  {
   "cell_type": "code",
   "execution_count": 31,
   "id": "209a10a2",
   "metadata": {},
   "outputs": [
    {
     "data": {
      "text/html": [
       "<div>\n",
       "<style scoped>\n",
       "    .dataframe tbody tr th:only-of-type {\n",
       "        vertical-align: middle;\n",
       "    }\n",
       "\n",
       "    .dataframe tbody tr th {\n",
       "        vertical-align: top;\n",
       "    }\n",
       "\n",
       "    .dataframe thead th {\n",
       "        text-align: right;\n",
       "    }\n",
       "</style>\n",
       "<table border=\"1\" class=\"dataframe\">\n",
       "  <thead>\n",
       "    <tr style=\"text-align: right;\">\n",
       "      <th></th>\n",
       "      <th>review_id</th>\n",
       "      <th>star_rating</th>\n",
       "      <th>helpful_votes</th>\n",
       "      <th>total_votes</th>\n",
       "      <th>vine</th>\n",
       "      <th>verified_purchase</th>\n",
       "    </tr>\n",
       "  </thead>\n",
       "  <tbody>\n",
       "    <tr>\n",
       "      <th>7459</th>\n",
       "      <td>R2VWEN0IY6URVQ</td>\n",
       "      <td>3.0</td>\n",
       "      <td>16.0</td>\n",
       "      <td>22.0</td>\n",
       "      <td>Y</td>\n",
       "      <td>N</td>\n",
       "    </tr>\n",
       "    <tr>\n",
       "      <th>41152</th>\n",
       "      <td>R132JD1EQ62TH0</td>\n",
       "      <td>3.0</td>\n",
       "      <td>237.0</td>\n",
       "      <td>295.0</td>\n",
       "      <td>Y</td>\n",
       "      <td>N</td>\n",
       "    </tr>\n",
       "    <tr>\n",
       "      <th>47726</th>\n",
       "      <td>RJ9ZCF2V76C79</td>\n",
       "      <td>2.0</td>\n",
       "      <td>27.0</td>\n",
       "      <td>35.0</td>\n",
       "      <td>Y</td>\n",
       "      <td>N</td>\n",
       "    </tr>\n",
       "    <tr>\n",
       "      <th>60964</th>\n",
       "      <td>R37BYT7O8X90G4</td>\n",
       "      <td>3.0</td>\n",
       "      <td>18.0</td>\n",
       "      <td>21.0</td>\n",
       "      <td>Y</td>\n",
       "      <td>N</td>\n",
       "    </tr>\n",
       "    <tr>\n",
       "      <th>91123</th>\n",
       "      <td>R6K8ODDN8RG0Z</td>\n",
       "      <td>1.0</td>\n",
       "      <td>46.0</td>\n",
       "      <td>60.0</td>\n",
       "      <td>Y</td>\n",
       "      <td>N</td>\n",
       "    </tr>\n",
       "  </tbody>\n",
       "</table>\n",
       "</div>"
      ],
      "text/plain": [
       "            review_id  star_rating  helpful_votes  total_votes vine  \\\n",
       "7459   R2VWEN0IY6URVQ          3.0           16.0         22.0    Y   \n",
       "41152  R132JD1EQ62TH0          3.0          237.0        295.0    Y   \n",
       "47726   RJ9ZCF2V76C79          2.0           27.0         35.0    Y   \n",
       "60964  R37BYT7O8X90G4          3.0           18.0         21.0    Y   \n",
       "91123   R6K8ODDN8RG0Z          1.0           46.0         60.0    Y   \n",
       "\n",
       "      verified_purchase  \n",
       "7459                  N  \n",
       "41152                 N  \n",
       "47726                 N  \n",
       "60964                 N  \n",
       "91123                 N  "
      ]
     },
     "execution_count": 31,
     "metadata": {},
     "output_type": "execute_result"
    }
   ],
   "source": [
    "# Filter DataFrame for vine = Y\n",
    "vine_table_df_filtered_vine_review_yes = vine_table_df_filtered_helpful_votes[(\n",
    "    vine_table_df_filtered_helpful_votes['vine']) == 'Y' ]\n",
    "vine_table_df_filtered_vine_review_yes.head()"
   ]
  },
  {
   "cell_type": "code",
   "execution_count": 32,
   "id": "eb220966",
   "metadata": {},
   "outputs": [
    {
     "data": {
      "text/plain": [
       "(497, 6)"
      ]
     },
     "execution_count": 32,
     "metadata": {},
     "output_type": "execute_result"
    }
   ],
   "source": [
    "# Check shape of filtered DataFrame\n",
    "vine_table_df_filtered_vine_review_yes.shape"
   ]
  },
  {
   "cell_type": "code",
   "execution_count": 33,
   "id": "d36da4ac",
   "metadata": {},
   "outputs": [
    {
     "data": {
      "text/html": [
       "<div>\n",
       "<style scoped>\n",
       "    .dataframe tbody tr th:only-of-type {\n",
       "        vertical-align: middle;\n",
       "    }\n",
       "\n",
       "    .dataframe tbody tr th {\n",
       "        vertical-align: top;\n",
       "    }\n",
       "\n",
       "    .dataframe thead th {\n",
       "        text-align: right;\n",
       "    }\n",
       "</style>\n",
       "<table border=\"1\" class=\"dataframe\">\n",
       "  <thead>\n",
       "    <tr style=\"text-align: right;\">\n",
       "      <th></th>\n",
       "      <th>review_id</th>\n",
       "      <th>star_rating</th>\n",
       "      <th>helpful_votes</th>\n",
       "      <th>total_votes</th>\n",
       "      <th>vine</th>\n",
       "      <th>verified_purchase</th>\n",
       "    </tr>\n",
       "  </thead>\n",
       "  <tbody>\n",
       "    <tr>\n",
       "      <th>102</th>\n",
       "      <td>RJSVNDGO0J1JY</td>\n",
       "      <td>5.0</td>\n",
       "      <td>21.0</td>\n",
       "      <td>21.0</td>\n",
       "      <td>N</td>\n",
       "      <td>N</td>\n",
       "    </tr>\n",
       "    <tr>\n",
       "      <th>243</th>\n",
       "      <td>R2SOBVB236WJP0</td>\n",
       "      <td>3.0</td>\n",
       "      <td>24.0</td>\n",
       "      <td>45.0</td>\n",
       "      <td>N</td>\n",
       "      <td>Y</td>\n",
       "    </tr>\n",
       "    <tr>\n",
       "      <th>339</th>\n",
       "      <td>R1O4VSAKKBUFG8</td>\n",
       "      <td>5.0</td>\n",
       "      <td>19.0</td>\n",
       "      <td>24.0</td>\n",
       "      <td>N</td>\n",
       "      <td>Y</td>\n",
       "    </tr>\n",
       "    <tr>\n",
       "      <th>424</th>\n",
       "      <td>RSX3CPZF61BSZ</td>\n",
       "      <td>4.0</td>\n",
       "      <td>14.0</td>\n",
       "      <td>21.0</td>\n",
       "      <td>N</td>\n",
       "      <td>Y</td>\n",
       "    </tr>\n",
       "    <tr>\n",
       "      <th>496</th>\n",
       "      <td>R2ARCCGFQ50AY1</td>\n",
       "      <td>1.0</td>\n",
       "      <td>23.0</td>\n",
       "      <td>24.0</td>\n",
       "      <td>N</td>\n",
       "      <td>N</td>\n",
       "    </tr>\n",
       "  </tbody>\n",
       "</table>\n",
       "</div>"
      ],
      "text/plain": [
       "          review_id  star_rating  helpful_votes  total_votes vine  \\\n",
       "102   RJSVNDGO0J1JY          5.0           21.0         21.0    N   \n",
       "243  R2SOBVB236WJP0          3.0           24.0         45.0    N   \n",
       "339  R1O4VSAKKBUFG8          5.0           19.0         24.0    N   \n",
       "424   RSX3CPZF61BSZ          4.0           14.0         21.0    N   \n",
       "496  R2ARCCGFQ50AY1          1.0           23.0         24.0    N   \n",
       "\n",
       "    verified_purchase  \n",
       "102                 N  \n",
       "243                 Y  \n",
       "339                 Y  \n",
       "424                 Y  \n",
       "496                 N  "
      ]
     },
     "execution_count": 33,
     "metadata": {},
     "output_type": "execute_result"
    }
   ],
   "source": [
    "# Filter DataFrame for vine = N\n",
    "vine_table_df_filtered_vine_review_no = vine_table_df_filtered_helpful_votes[(\n",
    "    vine_table_df_filtered_helpful_votes['vine']) == 'N' ]\n",
    "vine_table_df_filtered_vine_review_no.head()"
   ]
  },
  {
   "cell_type": "code",
   "execution_count": 34,
   "id": "c2970084",
   "metadata": {},
   "outputs": [
    {
     "data": {
      "text/plain": [
       "(120863, 6)"
      ]
     },
     "execution_count": 34,
     "metadata": {},
     "output_type": "execute_result"
    }
   ],
   "source": [
    "# Check shape of filtered DataFrame\n",
    "vine_table_df_filtered_vine_review_no.shape"
   ]
  },
  {
   "cell_type": "code",
   "execution_count": 47,
   "id": "4e3ba1a9",
   "metadata": {},
   "outputs": [
    {
     "name": "stdout",
     "output_type": "stream",
     "text": [
      " Total Number of Vine Reviews : 497\n",
      " Number of Vine Reviews with 5-Star Rating : 220\n",
      " Percentage of Vine Reviews with 5-Star Rating : 44.3%\n",
      "\n"
     ]
    }
   ],
   "source": [
    "# Count total reviews, 5-star reviews and percentage of 5-star reviews for vine = Yes\n",
    "total_reviews_vine_yes_count = vine_table_df_filtered_vine_review_yes['review_id'].count()\n",
    "\n",
    "total_reviews_vine_yes_5_star_count = vine_table_df_filtered_vine_review_yes[(\n",
    "    vine_table_df_filtered_vine_review_yes['star_rating']) == 5.0].count()['review_id']\n",
    "\n",
    "percentage_reviews_vine_yes_5_star = round(total_reviews_vine_yes_5_star_count/total_reviews_vine_yes_count * 100, 2)\n",
    "\n",
    "print(\n",
    "    f\" Total Number of Vine Reviews : {total_reviews_vine_yes_count}\\n\"\n",
    "    f\" Number of Vine Reviews with 5-Star Rating : {total_reviews_vine_yes_5_star_count}\\n\"\n",
    "    f\" Percentage of Vine Reviews with 5-Star Rating : {percentage_reviews_vine_yes_5_star:.1f}%\\n\"\n",
    ")"
   ]
  },
  {
   "cell_type": "code",
   "execution_count": 48,
   "id": "68057245",
   "metadata": {},
   "outputs": [
    {
     "name": "stdout",
     "output_type": "stream",
     "text": [
      " Total Number of non-Vine Reviews : 120863\n",
      " Number of non-Vine Reviews with 5-Star Rating : 74470\n",
      " Percentage of non-Vine Reviews with 5-Star Rating : 61.6%\n",
      "\n"
     ]
    }
   ],
   "source": [
    "# Count total reviews, 5-star reviews and percentage of 5-star reviews for vine = No\n",
    "total_reviews_vine_no_count = vine_table_df_filtered_vine_review_no['review_id'].count()\n",
    "\n",
    "total_reviews_vine_no_5_star_count = vine_table_df_filtered_vine_review_no[(\n",
    "    vine_table_df_filtered_vine_review_no['star_rating']) == 5.0].count()['review_id']\n",
    "\n",
    "percentage_reviews_vine_no_5_star = round(total_reviews_vine_no_5_star_count/total_reviews_vine_no_count * 100, 2)\n",
    "\n",
    "print(\n",
    "    f\" Total Number of non-Vine Reviews : {total_reviews_vine_no_count}\\n\"\n",
    "    f\" Number of non-Vine Reviews with 5-Star Rating : {total_reviews_vine_no_5_star_count}\\n\"\n",
    "    f\" Percentage of non-Vine Reviews with 5-Star Rating : {percentage_reviews_vine_no_5_star:.1f}%\\n\"\n",
    ")"
   ]
  },
  {
   "cell_type": "code",
   "execution_count": null,
   "id": "1377de21",
   "metadata": {},
   "outputs": [],
   "source": []
  }
 ],
 "metadata": {
  "kernelspec": {
   "display_name": "PythonData",
   "language": "python",
   "name": "pythondata"
  },
  "language_info": {
   "codemirror_mode": {
    "name": "ipython",
    "version": 3
   },
   "file_extension": ".py",
   "mimetype": "text/x-python",
   "name": "python",
   "nbconvert_exporter": "python",
   "pygments_lexer": "ipython3",
   "version": "3.7.13"
  }
 },
 "nbformat": 4,
 "nbformat_minor": 5
}
